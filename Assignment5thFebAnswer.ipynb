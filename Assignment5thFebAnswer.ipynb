{
 "cells": [
  {
   "cell_type": "markdown",
   "id": "c740d9ce-518f-4ccd-9885-87674ac51aa3",
   "metadata": {},
   "source": [
    "Assignement%thFebAnswer"
   ]
  },
  {
   "cell_type": "code",
   "execution_count": 1,
   "id": "5d9f9efe-97e4-4639-9f5f-85d0080df9cb",
   "metadata": {},
   "outputs": [],
   "source": [
    "#Q1. Explain Class and Object with respect to Object-Oriented Programming. Give a suitable example."
   ]
  },
  {
   "cell_type": "code",
   "execution_count": 2,
   "id": "6782e54c-8340-4600-a4c0-db200c33516f",
   "metadata": {},
   "outputs": [],
   "source": [
    "'''class= A class is like a blueprint or template which defines a set of attributes (characteristics) and methods (behaviors) that \n",
    "the objects created from the class will have.\n",
    "\n",
    "object= object is the instance of the class which has its own set of attributes (data) and methods (functions) that are defined by the class.'''"
   ]
  },
  {
   "cell_type": "code",
   "execution_count": 11,
   "id": "ed5dbc56-b34b-4a89-a914-788bd981b674",
   "metadata": {},
   "outputs": [],
   "source": [
    "#example-\n",
    "class Car:\n",
    "    def __init__(self,model,speed):\n",
    "        self.model=model\n",
    "        self.speed=speed\n",
    "\n",
    "    def show_speed(self):\n",
    "        print(self.speed)\n",
    "\n"
   ]
  },
  {
   "cell_type": "code",
   "execution_count": 12,
   "id": "e31ea0ce-df51-4500-b9a8-7accb9fbf713",
   "metadata": {},
   "outputs": [
    {
     "name": "stdout",
     "output_type": "stream",
     "text": [
      "180\n"
     ]
    }
   ],
   "source": [
    "obj=Car(\"SUV\",180)\n",
    "obj.show_speed()"
   ]
  },
  {
   "cell_type": "code",
   "execution_count": null,
   "id": "799927c9-074c-4a0e-a48f-647967a0eb55",
   "metadata": {},
   "outputs": [],
   "source": [
    "#Q2. Name the four pillars of OOPs."
   ]
  },
  {
   "cell_type": "code",
   "execution_count": 13,
   "id": "e73ec2cb-28d9-4c32-9ed5-dd9299d6cecd",
   "metadata": {},
   "outputs": [
    {
     "data": {
      "text/plain": [
       "'1.Inheritance\\n2.Polymorphism\\n3.Abstraction\\n4.Encapsulation'"
      ]
     },
     "execution_count": 13,
     "metadata": {},
     "output_type": "execute_result"
    }
   ],
   "source": [
    "#four pillar of OOPS are-\n",
    "'''1.Inheritance\n",
    "2.Polymorphism\n",
    "3.Abstraction\n",
    "4.Encapsulation'''"
   ]
  },
  {
   "cell_type": "code",
   "execution_count": 14,
   "id": "5c004844-2b14-4996-9f8a-caa8fd5cb95d",
   "metadata": {},
   "outputs": [],
   "source": [
    "#Q3. Explain why the __init__() function is used. Give a suitable example."
   ]
  },
  {
   "cell_type": "code",
   "execution_count": 15,
   "id": "6d347013-888b-4a05-8a7a-46f7bce25ab3",
   "metadata": {},
   "outputs": [
    {
     "name": "stdout",
     "output_type": "stream",
     "text": [
      "Name: Alice, Age: 30\n"
     ]
    }
   ],
   "source": [
    "'''The __init__() function in Python is a special method known as a constructor. It is automatically called when an instance (object) of a \n",
    "class is created. The primary purpose of __init__() is to initialize the newly created object’s attributes with specific values.'''\n",
    "\n",
    "'''The __init__() method takes at least one parameter: self, which refers to the instance being created. Additional parameters can be used \n",
    "to pass initial values.'''\n",
    "\n",
    "class Person:\n",
    "    def __init__(self, name, age):\n",
    "        self.name = name  \n",
    "        self.age = age   \n",
    "\n",
    "    def display_info(self):\n",
    "        return f\"Name: {self.name}, Age: {self.age}\"\n",
    "\n",
    "\n",
    "person1 = Person(\"Alice\", 30)\n",
    "print(person1.display_info()) \n",
    " "
   ]
  },
  {
   "cell_type": "code",
   "execution_count": 16,
   "id": "cc7bfae3-9c11-4041-a2f6-8b7673571a84",
   "metadata": {},
   "outputs": [],
   "source": [
    "#Q4. Why self is used in OOPs?"
   ]
  },
  {
   "cell_type": "code",
   "execution_count": 17,
   "id": "0549191b-b1a6-4034-b2d9-1ed533981136",
   "metadata": {},
   "outputs": [
    {
     "data": {
      "text/plain": [
       "' 1.Accessing Instance Attributes-\\n\\nself is used to access instance attributes and methods from within the class. It represents the instance of the class on which a \\nmethod is being called.\\n\\n2.Differentiating Between Instance and Local Variables-\\nself helps differentiate between instance variables (attributes) and local variables or parameters in methods.\\n\\n3.Method Definition\\nself is used in method definitions to refer to the instance calling the method.\\n\\nand also for consistency of the prograam.'"
      ]
     },
     "execution_count": 17,
     "metadata": {},
     "output_type": "execute_result"
    }
   ],
   "source": [
    "# self keyword has multiple purposes-\n",
    "''' 1.Accessing Instance Attributes-\n",
    "\n",
    "self is used to access instance attributes and methods from within the class. It represents the instance of the class on which a \n",
    "method is being called.\n",
    "\n",
    "2.Differentiating Between Instance and Local Variables-\n",
    "self helps differentiate between instance variables (attributes) and local variables or parameters in methods.\n",
    "\n",
    "3.Method Definition\n",
    "self is used in method definitions to refer to the instance calling the method.\n",
    "\n",
    "and also for consistency of the prograam.'''"
   ]
  },
  {
   "cell_type": "code",
   "execution_count": 18,
   "id": "c6271b09-f7d3-4fd1-b3a9-f97477a858dd",
   "metadata": {},
   "outputs": [],
   "source": [
    "#Q5. What is inheritance?Give an example for each type of inheritance."
   ]
  },
  {
   "cell_type": "code",
   "execution_count": 19,
   "id": "478b563e-e4c5-463d-8452-499b2face19a",
   "metadata": {},
   "outputs": [
    {
     "data": {
      "text/plain": [
       "' Inheritance allows one class (called a subclass or child class) to inherit attributes and methods from another \\nclass (called a superclass or parent class).'"
      ]
     },
     "execution_count": 19,
     "metadata": {},
     "output_type": "execute_result"
    }
   ],
   "source": [
    "# inheritance-\n",
    "''' Inheritance allows one class (called a subclass or child class) to inherit attributes and methods from another \n",
    "class (called a superclass or parent class).'''"
   ]
  },
  {
   "cell_type": "code",
   "execution_count": 20,
   "id": "8a960119-6697-4926-b2aa-ee78e77f1212",
   "metadata": {},
   "outputs": [
    {
     "name": "stdout",
     "output_type": "stream",
     "text": [
      "Animal speaks\n",
      "Woof!\n"
     ]
    }
   ],
   "source": [
    "#1. Single Inheritance\n",
    "'''In single inheritance, a class (subclass) inherits from a single superclass. This is the simplest form of inheritance.'''\n",
    "\n",
    "class Animal:\n",
    "    def speak(self):\n",
    "        return \"Animal speaks\"\n",
    "\n",
    "class Dog(Animal):  \n",
    "    def bark(self):\n",
    "        return \"Woof!\"\n",
    "\n",
    "# Create an instance of Dog\n",
    "dog = Dog()\n",
    "print(dog.speak())  \n",
    "print(dog.bark())   "
   ]
  },
  {
   "cell_type": "code",
   "execution_count": 21,
   "id": "61bebadc-994a-47c1-a2d1-2c078613007e",
   "metadata": {},
   "outputs": [
    {
     "name": "stdout",
     "output_type": "stream",
     "text": [
      "Engine started\n",
      "Playing music\n",
      "Car is driving\n"
     ]
    }
   ],
   "source": [
    "#Mutliple Inheritance\n",
    "''' In multiple inheritance, a class (subclass) inherits from more than one superclass. This allows the subclass to combine the \n",
    "attributes and methods of multiple base classes.'''\n",
    "\n",
    "class Engine:\n",
    "    def start_engine(self):\n",
    "        return \"Engine started\"\n",
    "\n",
    "class Radio:\n",
    "    def play_music(self):\n",
    "        return \"Playing music\"\n",
    "\n",
    "class Car(Engine, Radio):  \n",
    "    def drive(self):\n",
    "        return \"Car is driving\"\n",
    "\n",
    "# Create an instance of Car\n",
    "car = Car()\n",
    "print(car.start_engine())  \n",
    "print(car.play_music())    \n",
    "print(car.drive())        \n"
   ]
  },
  {
   "cell_type": "code",
   "execution_count": 22,
   "id": "334d16e7-276c-42a5-a246-aeae8a3550e5",
   "metadata": {},
   "outputs": [
    {
     "name": "stdout",
     "output_type": "stream",
     "text": [
      "Animal is eating\n",
      "Mammal breathes\n",
      "Woof!\n"
     ]
    }
   ],
   "source": [
    "#3. Multilevel Inheritance\n",
    "'''In multilevel inheritance, a class (subclass) inherits from another class, which itself inherits from a third class, \n",
    "creating a chain of inheritance.'''\n",
    "\n",
    "class Animal:\n",
    "    def eat(self):\n",
    "        return \"Animal is eating\"\n",
    "\n",
    "class Mammal(Animal):  \n",
    "    def breathe(self):\n",
    "        return \"Mammal breathes\"\n",
    "\n",
    "class Dog(Mammal):     \n",
    "    def bark(self):\n",
    "        return \"Woof!\"\n",
    "\n",
    "# Create an instance of Dog\n",
    "dog = Dog()\n",
    "print(dog.eat())     \n",
    "print(dog.breathe())  \n",
    "print(dog.bark())   \n"
   ]
  },
  {
   "cell_type": "code",
   "execution_count": 23,
   "id": "515e4a22-74cd-48a2-9053-53b2f4712d15",
   "metadata": {},
   "outputs": [
    {
     "name": "stdout",
     "output_type": "stream",
     "text": [
      "Animal is eating\n",
      "Woof!\n",
      "Animal is eating\n",
      "Meow!\n"
     ]
    }
   ],
   "source": [
    "#4. Hierarchical Inheritance\n",
    "'''In hierarchical inheritance, multiple subclasses inherit from a single superclass. This creates a hierarchy where several\n",
    "classes derive from the same base class.'''\n",
    "\n",
    "class Animal:\n",
    "    def eat(self):\n",
    "        return \"Animal is eating\"\n",
    "\n",
    "class Dog(Animal):   \n",
    "    def bark(self):\n",
    "        return \"Woof!\"\n",
    "\n",
    "class Cat(Animal):  \n",
    "    def meow(self):\n",
    "        return \"Meow!\"\n",
    "\n",
    "# Create instances of Dog and Cat\n",
    "dog = Dog()\n",
    "cat = Cat()\n",
    "\n",
    "print(dog.eat())   \n",
    "print(dog.bark())  \n",
    "print(cat.eat())   \n",
    "print(cat.meow())  \n"
   ]
  },
  {
   "cell_type": "code",
   "execution_count": 24,
   "id": "1cbb59c6-2b68-4022-8d7c-8e37bb120fe3",
   "metadata": {},
   "outputs": [
    {
     "name": "stdout",
     "output_type": "stream",
     "text": [
      "Animal is eating\n",
      "Mammal breathes\n",
      "Bird flies\n",
      "Bat hangs upside down\n"
     ]
    }
   ],
   "source": [
    "#5. Hybrid Inheritance\n",
    "\n",
    "''' Hybrid inheritance is a combination of two or more types of inheritance. It can involve multiple, multilevel, or hierarchical \n",
    "inheritance within the same class hierarchy.'''\n",
    "\n",
    "class Animal:\n",
    "    def eat(self):\n",
    "        return \"Animal is eating\"\n",
    "\n",
    "class Mammal(Animal):\n",
    "    def breathe(self):\n",
    "        return \"Mammal breathes\"\n",
    "\n",
    "class Bird(Animal):\n",
    "    def fly(self):\n",
    "        return \"Bird flies\"\n",
    "\n",
    "class Bat(Mammal, Bird): \n",
    "    def hang(self):\n",
    "        return \"Bat hangs upside down\"\n",
    "\n",
    "\n",
    "bat = Bat()\n",
    "print(bat.eat())      \n",
    "print(bat.breathe()) \n",
    "print(bat.fly())     \n",
    "print(bat.hang())     \n"
   ]
  },
  {
   "cell_type": "code",
   "execution_count": null,
   "id": "d1f5132b-7813-411e-95c2-94fb151a4396",
   "metadata": {},
   "outputs": [],
   "source": []
  }
 ],
 "metadata": {
  "kernelspec": {
   "display_name": "Python 3 (ipykernel)",
   "language": "python",
   "name": "python3"
  },
  "language_info": {
   "codemirror_mode": {
    "name": "ipython",
    "version": 3
   },
   "file_extension": ".py",
   "mimetype": "text/x-python",
   "name": "python",
   "nbconvert_exporter": "python",
   "pygments_lexer": "ipython3",
   "version": "3.12.4"
  }
 },
 "nbformat": 4,
 "nbformat_minor": 5
}
